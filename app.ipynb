{
 "cells": [
  {
   "cell_type": "code",
   "execution_count": 1,
   "metadata": {},
   "outputs": [],
   "source": [
    "import time\n",
    "from pydrive.auth import GoogleAuth\n",
    "from pydrive.drive import GoogleDrive\n",
    "from pydrive.files import GoogleDriveFile"
   ]
  },
  {
   "cell_type": "code",
   "execution_count": null,
   "metadata": {},
   "outputs": [],
   "source": [
    "from tqdm.auto import tqdm\n",
    "from langchain.chat_models import ChatOpenAI\n",
    "from langchain.chains import LLMChain\n",
    "from langchain.document_loaders import ToMarkdownLoader\n",
    "from langchain.text_splitter import TokenTextSplitter\n",
    "from langchain.embeddings.openai import OpenAIEmbeddings\n",
    "from langchain.vectorstores import Pinecone\n",
    "from langchain.document_loaders import TextLoader, DirectoryLoader\n",
    "from langchain.prompts import PromptTemplate\n",
    "from langchain.schema import Document\n",
    "import pinecone\n",
    "import os\n",
    "import re"
   ]
  },
  {
   "cell_type": "code",
   "execution_count": 3,
   "metadata": {},
   "outputs": [],
   "source": [
    "api_key = os.getenv('TOMD_API_KEY')\n",
    "os.environ['OPENAI_API_KEY'] = os.getenv('OPENAI_API_KEY')\n",
    "pinecone.init(      \n",
    "\tapi_key=os.getenv('PINECONE_API_KEY'),      \n",
    "\tenvironment=os.getenv('PINECONE_ENVIRONMENT')    \n",
    ")      \n",
    "index = 'xrpl'\n",
    "llm = ChatOpenAI(model='gpt-3.5-turbo-16k', temperature=0)\n"
   ]
  },
  {
   "cell_type": "code",
   "execution_count": 4,
   "metadata": {},
   "outputs": [],
   "source": [
    "doc_splitter = TokenTextSplitter(\n",
    "    chunk_size = 2000,\n",
    "    chunk_overlap  = 200,\n",
    "    length_function = len,\n",
    ")"
   ]
  },
  {
   "cell_type": "code",
   "execution_count": 5,
   "metadata": {},
   "outputs": [],
   "source": [
    "gauth = GoogleAuth()\n",
    "drive = GoogleDrive(gauth)"
   ]
  },
  {
   "cell_type": "code",
   "execution_count": 6,
   "metadata": {},
   "outputs": [],
   "source": [
    "def list_files_in_folder(folder_id):\n",
    "    query = f\"'{folder_id}' in parents and trashed=false\"\n",
    "    file_list = drive.ListFile({'q': query}).GetList()\n",
    "    return file_list"
   ]
  },
  {
   "cell_type": "code",
   "execution_count": 7,
   "metadata": {},
   "outputs": [],
   "source": [
    "def get_file_info(file_list):\n",
    "    file_info = []\n",
    "    for file in file_list:\n",
    "        file_info.append({\n",
    "            'title': file['title'],\n",
    "            'id': file['id'],\n",
    "            'mimeType': file['mimeType'],\n",
    "        })\n",
    "    return file_info"
   ]
  },
  {
   "cell_type": "code",
   "execution_count": 8,
   "metadata": {},
   "outputs": [],
   "source": [
    "def download_file(file_id, file_name, mime_type):\n",
    "    file = drive.CreateFile({'id':file_id})\n",
    "    file.GetContentFile(filename=file_name, mimetype=mime_type)"
   ]
  },
  {
   "cell_type": "code",
   "execution_count": 9,
   "metadata": {},
   "outputs": [],
   "source": [
    "current_files_folders = os.getenv('current_files_folders')\n",
    "old_files_folders = os.getenv('old_files_folders')"
   ]
  },
  {
   "cell_type": "code",
   "execution_count": null,
   "metadata": {},
   "outputs": [],
   "source": [
    "path = '/home/renisonmoita/Downloads/vega-automation/'\n",
    "current_qtd = 0\n",
    "documents = []\n",
    "while True:\n",
    "    files_info = get_file_info(list_files_in_folder(current_files_folders))\n",
    "    documents.clear()\n",
    "\n",
    "    if current_qtd == len(files_info):\n",
    "        pass\n",
    "    else:\n",
    "        print(f'Arquivos encontrados:\\n')\n",
    "        try:\n",
    "            for infos in files_info:\n",
    "                download_file(infos['id'], infos['title'], infos['mimeType'])\n",
    "                print(f\"Download complet:\\nTítulo: {infos['title']}\\nID: {infos['id']}\\n\")\n",
    "        except Exception as e:\n",
    "            print('Erro ao baixar arquivos')\n",
    "            print(e)\n",
    "        \n",
    "        directory_loader = DirectoryLoader(path, loader_cls=TextLoader)\n",
    "        loader = directory_loader.load()\n",
    "\n",
    "        for document in loader:\n",
    "            if len(loader) > 0:\n",
    "                content = document.page_content\n",
    "                print(content)\n",
    "                source = document.page_content.split('\\n')[0]\n",
    "                source_verification = re.findall('https?//\\S+', source)\n",
    "                \n",
    "                if len(source_verification) > 0:\n",
    "                    documents.append(Document(page_content=content, metadata={'source':source}))\n",
    "                else:\n",
    "                    documents.append(Document(page_content=content, metadata={'source': '*'}))\n",
    "\n",
    "        print(documents)\n",
    "\n",
    "        embedding = OpenAIEmbeddings(\n",
    "            model='text-embedding-ada-002',\n",
    "        )\n",
    "\n",
    "        try:\n",
    "            for document in documents:\n",
    "                splitted_doc = doc_splitter.split_documents(document)\n",
    "                # Pinecone.from_documents(splitted_doc, embedding, index_name=index)\n",
    "            print('Upado no Pinecone\\n')\n",
    "        except Exception as e:\n",
    "            print(f'Erro ao indexar documento\\n{e}')\n",
    "        \n",
    "        for file in files_info:\n",
    "            file = drive.CreateFile({'id':file['id']}) \n",
    "            file['parents'] = [{'kind': 'drive#fileLink', 'id': old_files_folders}]\n",
    "\n",
    "        current_qtd = len(files_info)\n"
   ]
  }
 ],
 "metadata": {
  "kernelspec": {
   "display_name": "Python 3",
   "language": "python",
   "name": "python3"
  },
  "language_info": {
   "codemirror_mode": {
    "name": "ipython",
    "version": 3
   },
   "file_extension": ".py",
   "mimetype": "text/x-python",
   "name": "python",
   "nbconvert_exporter": "python",
   "pygments_lexer": "ipython3",
   "version": "3.11.6"
  },
  "orig_nbformat": 4
 },
 "nbformat": 4,
 "nbformat_minor": 2
}
